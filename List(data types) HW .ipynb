{
 "cells": [
  {
   "cell_type": "markdown",
   "id": "bd4755bb",
   "metadata": {},
   "source": [
    "# List(data types) HW \n"
   ]
  },
  {
   "cell_type": "code",
   "execution_count": 26,
   "id": "666757a5",
   "metadata": {},
   "outputs": [
    {
     "name": "stdout",
     "output_type": "stream",
     "text": [
      "add values for lists-55\n",
      "add values for lists-75\n",
      "add values for lists-10\n",
      "Now we have the list as follows- [55, 75, 10]\n"
     ]
    }
   ],
   "source": [
    "T=[]\n",
    "for i in range(3):\n",
    "    L=int(input(\"add values for lists-\"))\n",
    "    T.append(L)\n",
    "print(\"Now we have the list as follows-\",T)"
   ]
  },
  {
   "cell_type": "code",
   "execution_count": 26,
   "id": "eda35fd9",
   "metadata": {},
   "outputs": [
    {
     "name": "stdout",
     "output_type": "stream",
     "text": [
      "sum of the list is- 305\n",
      "smallest number from the list is- 10\n",
      "largest number from the list is- 90\n"
     ]
    }
   ],
   "source": [
    "li=[10, 30, 50, 55, 70, 90]\n",
    "x=0\n",
    "for i in li:\n",
    "    x=x+i\n",
    "print(\"sum of the list is-\",x)\n",
    "print(\"smallest number from the list is-\",min(li))\n",
    "print(\"largest number from the list is-\", max(li))\n"
   ]
  },
  {
   "cell_type": "code",
   "execution_count": 34,
   "id": "65921c05",
   "metadata": {},
   "outputs": [
    {
     "name": "stdout",
     "output_type": "stream",
     "text": [
      "take any input-harshdeep\n",
      "['a', 'r', 's', 'd', 'p']\n"
     ]
    }
   ],
   "source": [
    "x=input(\"take any input-\")\n",
    "y=[]\n",
    "for i in x:\n",
    "    if x.count(i)<2:\n",
    "        y.append(i)\n",
    "print(y)        "
   ]
  },
  {
   "cell_type": "code",
   "execution_count": 29,
   "id": "dfa6cf9b",
   "metadata": {},
   "outputs": [
    {
     "name": "stdout",
     "output_type": "stream",
     "text": [
      "['Green', 'White', 'Black']\n"
     ]
    }
   ],
   "source": [
    "li=['Red', 'Green', 'White', 'Black', 'Pink', 'Yellow']\n",
    "# del li[5]\n",
    "# del li[4]\n",
    "# del li[0]\n",
    "li.pop(5)\n",
    "li.pop(4)\n",
    "li.pop(0)\n",
    "\n",
    "print(li)"
   ]
  },
  {
   "cell_type": "code",
   "execution_count": 20,
   "id": "2f1b99e5",
   "metadata": {},
   "outputs": [
    {
     "name": "stdout",
     "output_type": "stream",
     "text": [
      "['quick', 'fox', 'over', 'lazy']\n"
     ]
    }
   ],
   "source": [
    "li=['a','quick','brown','fox','jumps','over','the','lazy','dog']\n",
    "#print(li[1::2])\n",
    "x=0\n",
    "li2=[]\n",
    "for i in li:\n",
    "    if x%2!=0:\n",
    "        li2.append(i)\n",
    "    x=x+1\n",
    "print(li2)"
   ]
  },
  {
   "cell_type": "code",
   "execution_count": 4,
   "id": "4ef4dced",
   "metadata": {},
   "outputs": [
    {
     "name": "stdout",
     "output_type": "stream",
     "text": [
      "Enter any word-harshdeep\n",
      "['harshdeep']\n"
     ]
    }
   ],
   "source": [
    "x=input(\"Enter any word-\")\n",
    "L=[]\n",
    "L.append(x)\n",
    "print(L)"
   ]
  },
  {
   "cell_type": "code",
   "execution_count": 5,
   "id": "5b273aa1",
   "metadata": {},
   "outputs": [
    {
     "name": "stdout",
     "output_type": "stream",
     "text": [
      "[1, 1, 12, 2, 3, 4, 4, 5, 1]\n"
     ]
    }
   ],
   "source": [
    "L=[1, 1, 2, 3, 4, 4, 5, 1]\n",
    "L.insert(2,12)\n",
    "print(L)"
   ]
  },
  {
   "cell_type": "code",
   "execution_count": 6,
   "id": "5847794e",
   "metadata": {},
   "outputs": [
    {
     "data": {
      "text/plain": [
       "[1, 5, 4, 4, 3, 2, 12, 1, 1]"
      ]
     },
     "execution_count": 6,
     "metadata": {},
     "output_type": "execute_result"
    }
   ],
   "source": [
    "L=[1, 1, 12, 2, 3, 4, 4, 5, 1]\n",
    "L[::-1]\n"
   ]
  },
  {
   "cell_type": "code",
   "execution_count": 25,
   "id": "b5ef09b1",
   "metadata": {},
   "outputs": [
    {
     "name": "stdout",
     "output_type": "stream",
     "text": [
      "1\n",
      "4\n",
      "16\n",
      "25\n"
     ]
    }
   ],
   "source": [
    "l=[1, 1, 12, 2, 3, 4, 4, 5, 1]\n",
    "for i in l[1::2]:\n",
    "    print(i**2)\n",
    "    \n"
   ]
  },
  {
   "cell_type": "code",
   "execution_count": 27,
   "id": "97b665c5",
   "metadata": {},
   "outputs": [
    {
     "name": "stdout",
     "output_type": "stream",
     "text": [
      "12\n",
      "2\n",
      "4\n",
      "4\n"
     ]
    }
   ],
   "source": [
    "l=[1, 1, 12, 2, 3, 4, 4, 5, 1]\n",
    "l1=[print(i) for i in l if i%2==0]"
   ]
  },
  {
   "cell_type": "code",
   "execution_count": 38,
   "id": "6af4f6cd",
   "metadata": {},
   "outputs": [
    {
     "name": "stdout",
     "output_type": "stream",
     "text": [
      "put any input from list-12\n",
      "[1, 12, 2, 3, 4, 4, 5, 1]\n"
     ]
    }
   ],
   "source": [
    "x=int(input(\"put any input from list-\"))\n",
    "l=[1, 1, 12, 2, 3, 4, 4, 5, 1]\n",
    "y=l.index(x)\n",
    "\n",
    "del l[y-1]\n",
    "print(l)"
   ]
  },
  {
   "cell_type": "code",
   "execution_count": 39,
   "id": "e9c7fd83",
   "metadata": {},
   "outputs": [
    {
     "name": "stdout",
     "output_type": "stream",
     "text": [
      "put any input from list-fox\n",
      "['a', 'quick', 'fox', 'jumps', 'over', 'the', 'lazy', 'dog']\n"
     ]
    }
   ],
   "source": [
    "x=input(\"put any input from list-\")\n",
    "l=['a', 'quick', 'brown', 'fox', 'jumps', 'over', 'the', 'lazy', 'dog']\n",
    "y=l.index(x)\n",
    "\n",
    "del l[y-1]\n",
    "print(l)"
   ]
  },
  {
   "cell_type": "code",
   "execution_count": null,
   "id": "0dd9cde7",
   "metadata": {},
   "outputs": [],
   "source": []
  }
 ],
 "metadata": {
  "kernelspec": {
   "display_name": "Python 3 (ipykernel)",
   "language": "python",
   "name": "python3"
  },
  "language_info": {
   "codemirror_mode": {
    "name": "ipython",
    "version": 3
   },
   "file_extension": ".py",
   "mimetype": "text/x-python",
   "name": "python",
   "nbconvert_exporter": "python",
   "pygments_lexer": "ipython3",
   "version": "3.9.12"
  }
 },
 "nbformat": 4,
 "nbformat_minor": 5
}
