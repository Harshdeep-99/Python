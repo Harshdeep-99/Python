{
 "cells": [
  {
   "cell_type": "markdown",
   "id": "b466fc2d",
   "metadata": {},
   "source": [
    "# If-Else Conditional sentences"
   ]
  },
  {
   "cell_type": "markdown",
   "id": "335b4474",
   "metadata": {},
   "source": [
    "##### 1.\twrite a program to check the number is positive or negative or zero"
   ]
  },
  {
   "cell_type": "code",
   "execution_count": 4,
   "id": "0a526004",
   "metadata": {},
   "outputs": [
    {
     "name": "stdout",
     "output_type": "stream",
     "text": [
      "take any number-55\n",
      "positive\n"
     ]
    }
   ],
   "source": [
    "x=int(input(\"take any number-\"))\n",
    "if x==0:\n",
    "    print(\"zero\")\n",
    "elif x<0:\n",
    "    print(\"negative\")\n",
    "else:\n",
    "    print(\"positive\")\n",
    "    "
   ]
  },
  {
   "cell_type": "markdown",
   "id": "fbc42592",
   "metadata": {},
   "source": [
    "##### 2.\twrite a program to take a user name and password from the user and if it matches with 'pramod123' and '123456789'. welcome to the website else report invalid username and password."
   ]
  },
  {
   "cell_type": "code",
   "execution_count": 9,
   "id": "c412410d",
   "metadata": {},
   "outputs": [
    {
     "name": "stdout",
     "output_type": "stream",
     "text": [
      "type username-parmod123\n",
      "type password-123456789\n",
      "welcome to the website\n"
     ]
    }
   ],
   "source": [
    "username=input(\"type username-\")\n",
    "password=input(\"type password-\")\n",
    "if username==\"parmod123\" and password==\"123456789\":\n",
    "    print(\"welcome to the website\")\n",
    "else:\n",
    "    print(\"invalid username and password\")"
   ]
  },
  {
   "cell_type": "markdown",
   "id": "297acda0",
   "metadata": {},
   "source": [
    "##### 3.\t The given number is of one digited or two digited or three digited or more than three digited.\n",
    "INPUT: 945 \n",
    "\n",
    "OUTPUT: Three digit number\n"
   ]
  },
  {
   "cell_type": "code",
   "execution_count": 17,
   "id": "ca2f251f",
   "metadata": {},
   "outputs": [
    {
     "name": "stdout",
     "output_type": "stream",
     "text": [
      "take any number-25\n",
      "double digit\n"
     ]
    }
   ],
   "source": [
    "number=int(input(\"take any number-\"))\n",
    "\n",
    "if 0<=number<10:\n",
    "    print(\"single digit\")\n",
    "elif 10<=number<100:\n",
    "    print(\"double digit\")\n",
    "elif 100<=number:\n",
    "        print(\"triple digit or more\")\n",
    "else: \n",
    "\n",
    "    print(\"negatives\")"
   ]
  },
  {
   "cell_type": "markdown",
   "id": "0e3940d6",
   "metadata": {},
   "source": [
    "##### 4.\tWrite a python program to check The entered number is smallest 4 digit number or not."
   ]
  },
  {
   "cell_type": "code",
   "execution_count": 20,
   "id": "6ea5868f",
   "metadata": {},
   "outputs": [
    {
     "name": "stdout",
     "output_type": "stream",
     "text": [
      "take any number-1000\n",
      "it's a smallest 4 digit number\n"
     ]
    }
   ],
   "source": [
    "number=int(input(\"take any number-\"))\n",
    "\n",
    "if number==1000:\n",
    "    print(\"it's a smallest 4 digit number\")\n",
    "else:\n",
    "    print(\"it's not a smallest 4 digit number\")"
   ]
  },
  {
   "cell_type": "markdown",
   "id": "7fcd81e1",
   "metadata": {},
   "source": [
    "##### 5.\tWrite a python program to take the three numbers as input and find the largest number.\n"
   ]
  },
  {
   "cell_type": "code",
   "execution_count": 3,
   "id": "4515b5ba",
   "metadata": {},
   "outputs": [
    {
     "name": "stdout",
     "output_type": "stream",
     "text": [
      "a-5\n",
      "b-4\n",
      "c-8\n",
      "8 is greater\n"
     ]
    }
   ],
   "source": [
    "#which is greater\n",
    "\n",
    "a=int(input(\"a-\"))\n",
    "b=int(input(\"b-\"))\n",
    "c=int(input(\"c-\"))\n",
    "\n",
    "if a>b and a>c:\n",
    "    print(a,\"is greater\")\n",
    "elif b>a and a>c:\n",
    "    print(b,'is greater')\n",
    "elif c>a and c>b:\n",
    "    print(c,\"is greater\")\n",
    "elif a==b or b==c or a==c:\n",
    "    print(\"any two equal\")\n",
    "else:\n",
    "    print('all are equal')"
   ]
  },
  {
   "cell_type": "markdown",
   "id": "05fdbc8d",
   "metadata": {},
   "source": [
    "\n",
    "##### 6.\tWrite a python  program that reads three positive numbers a, b, c and determines whether they can form the three sides of a triangle and check  Whether the triangle will be an obtuse-angle, or a right-angle or an acute-angle triangle.\n"
   ]
  },
  {
   "cell_type": "code",
   "execution_count": 6,
   "id": "56393c55",
   "metadata": {},
   "outputs": [
    {
     "name": "stdout",
     "output_type": "stream",
     "text": [
      "a-5\n",
      "b-4\n",
      "c-3\n",
      "it's a triangle\n",
      "it's a right angle triangle\n"
     ]
    }
   ],
   "source": [
    "a=int(input(\"a-\"))\n",
    "b=int(input(\"b-\"))\n",
    "c=int(input(\"c-\"))\n",
    "\n",
    "if a+b>c and b+c>a and c+a>b:\n",
    "    print(\"it's a triangle\")\n",
    "    if a**2==b**2+c**2 or b**2==c**2+a**2 or c**2==a**2+b**2:\n",
    "        print(\"it's a right angle triangle\")\n",
    "    elif a**2>b**2+c**2 or b**2>c**2+a**2 or c**2>a**2+b**2:\n",
    "        print(\"it's an obtuse triangle\")\n",
    "    elif a**2<b**2+c**2 or b**2<c**2+a**2 or c**2<a**2+b**2:\n",
    "        print(\"it's an acute triangle\")\n",
    "    else:\n",
    "        print(\"it's other triangle\")\n",
    "\n",
    "else:\n",
    "    print(\"it's not a triangle\")"
   ]
  },
  {
   "cell_type": "markdown",
   "id": "7ea3a1f4",
   "metadata": {},
   "source": [
    "##### 7.\tWrite a python program  to check the triangle , is equilateral, isosceles, or scalene.\n",
    "\n"
   ]
  },
  {
   "cell_type": "code",
   "execution_count": 4,
   "id": "33c301eb",
   "metadata": {},
   "outputs": [
    {
     "name": "stdout",
     "output_type": "stream",
     "text": [
      "a-0\n",
      "b-0\n",
      "c-0\n",
      "it's not a triangle\n"
     ]
    }
   ],
   "source": [
    "a=int(input(\"a-\"))\n",
    "b=int(input(\"b-\"))\n",
    "c=int(input(\"c-\"))\n",
    "\n",
    "if a+b>c and b+c>a and c+a>b:\n",
    "    print(\"it's a triangle\")\n",
    "    if a==b==c:\n",
    "        print(\"it's an equilateral triangle\")\n",
    "    elif a==b or b==c or c==a:\n",
    "        print(\"it's an isosceles triangle\")\n",
    "    else:\n",
    "        print(\"scalene\")\n",
    "else:\n",
    "    print(\"it's not a triangle\")"
   ]
  },
  {
   "cell_type": "markdown",
   "id": "47a34fb9",
   "metadata": {},
   "source": [
    "\n",
    "##### 8.\tA toy vendor supplies three types of toys: Battery Based Toys, Key-based Toys, and Electrical Charging Based Toys. The vendor gives a discount of 10% on orders for battery-based toys if the order is for more than Rs. 1000. On orders of more than Rs. 100 for key-based toys, a discount of 5% is given, and a discount of 10% is given on orders for electrical charging based toys of value more than Rs. 500. Assume that the numeric codes 1,2 and 3 are used for battery based toys, key-based toys, and electrical charging based toys respectively. Write a program that reads the product code and the order amount and prints out the net amount that the customer is required to pay after the discount."
   ]
  },
  {
   "cell_type": "code",
   "execution_count": 27,
   "id": "e1f31393",
   "metadata": {},
   "outputs": [
    {
     "name": "stdout",
     "output_type": "stream",
     "text": [
      "welcome to toy shop \n",
      "Please select your the number for your purchase-\n",
      "1. Battery Based Toys\n",
      "2. Key-based Toys\n",
      "3. Electrical Charging Based Toys  \n",
      "select the type of toys-3\n",
      "enter the amount for the purchase-555\n",
      "you have selected Electric based Toys\n",
      "amount after discount- 549.45\n"
     ]
    }
   ],
   "source": [
    "print(\"welcome to toy shop \\nPlease select your the number for your purchase-\\n1. Battery Based Toys\\n2. Key-based Toys\\n3. Electrical Charging Based Toys  \")\n",
    "toy=int(input(\"select the type of toys-\"))\n",
    "amount=int(input(\"enter the amount for the purchase-\"))\n",
    "if toy==1:\n",
    "    print(\"you have selected the Battrey Based Toys\")\n",
    "    if amount>1000:\n",
    "        print(\"amount after discount-\",amount-(amount*.1))\n",
    "    else:\n",
    "        print(\"No discount-\",amount)\n",
    "elif toy==2:\n",
    "    print(\"you have selected Key-based Toys\")\n",
    "    if amount>500:\n",
    "        print(\"amount after discount-\",amount-(amount*.05))\n",
    "    else:\n",
    "        print(\"No discount-\",amount)\n",
    "elif toy==3:\n",
    "    print(\"you have selected Electric based Toys\")\n",
    "    if amount>100:\n",
    "        print(\"amount after discount-\",amount-(amount*.01))\n",
    "    else:\n",
    "        print(\"No discount-\",amount)\n",
    "else:\n",
    "    print(\"not an option\")"
   ]
  },
  {
   "cell_type": "markdown",
   "id": "b19c77d2",
   "metadata": {},
   "source": [
    "##### 9.\t10.\t A function f is defined as follows :\n",
    "    f(x)   =    ax3 – bx2 + cx –d,                  if x > k\n",
    "    f(x)   =    0,                                  if x = k\n",
    "    f(x)   =    -ax3 + bx2 – cx +d,                 if x <k \n"
   ]
  },
  {
   "cell_type": "code",
   "execution_count": 33,
   "id": "21e225cd",
   "metadata": {},
   "outputs": [
    {
     "name": "stdout",
     "output_type": "stream",
     "text": [
      "x-5\n",
      "k-5\n",
      "a-4\n",
      "b-6\n",
      "c-9\n",
      "d-75\n",
      "f(x)= 0\n"
     ]
    }
   ],
   "source": [
    "x=int(input(\"x-\"))\n",
    "k=int(input(\"k-\"))\n",
    "a=int(input(\"a-\"))\n",
    "b=int(input(\"b-\"))\n",
    "c=int(input(\"c-\"))\n",
    "d=int(input(\"d-\"))\n",
    "\n",
    "if x>k:\n",
    "    print(\"f(x)=\",a*(x**3)-b*(x**2)+b*x-d)\n",
    "elif x<k:\n",
    "    print(\"f(x)=\",-a*(x**3)-b*(x**2)+b*x-d)\n",
    "else:\n",
    "    print(\"f(x)=\",0)"
   ]
  },
  {
   "cell_type": "markdown",
   "id": "469223d2",
   "metadata": {},
   "source": [
    "##### 10.  The Paschim Gujarat Vij Company Ltd. computes the electricity bill based on the following table:\n",
    "Units Consumed\tCharges\n",
    "\n",
    "0-100\t0.50 per unit\n",
    "\n",
    "101-200\tRs. 50 plus Rs. 1 per unit over 100 units\n",
    "\n",
    "201-300\tRs. 150 plus 1.50 per unit over 200 units\n",
    "\n",
    "300\tRs. 300 plus Rs.2 per unit over 300 units\n",
    "\n",
    "\n",
    "1.\tAsk user to enter the Past meter reading and current meter reading.\n",
    "2.\tFind the units consumed.\n",
    "3.\tCompute the bill according to given matrix.\n"
   ]
  },
  {
   "cell_type": "code",
   "execution_count": 45,
   "id": "849d8f45",
   "metadata": {},
   "outputs": [
    {
     "name": "stdout",
     "output_type": "stream",
     "text": [
      " Welcome to The Paschim Gujarat Vij Company Ltd. \n",
      "We will help you with the calculation of your electricity bill\n",
      "please enter past meter reading-5565\n",
      "please enter your present meter reading-5565\n",
      "unit consumed- 0\n",
      "your bill is 0\n"
     ]
    }
   ],
   "source": [
    "print(\" Welcome to The Paschim Gujarat Vij Company Ltd. \\nWe will help you with the calculation of your electricity bill\")\n",
    "Past=int(input(\"please enter past meter reading-\"))\n",
    "Present=int(input(\"please enter your present meter reading-\"))\n",
    "Unit=Present-Past\n",
    "print(\"unit consumed-\",Unit)\n",
    "if 0<Unit<=100:\n",
    "    print(\"price to pay-\",Unit*.5)\n",
    "elif 100<Unit<=200:\n",
    "    print(\"price to pay-\",(Unit*1)+50)\n",
    "elif 200<Unit<=300:\n",
    "    print(\"price to pay-\",(Unit*1.5)+150)\n",
    "elif 300<Unit:\n",
    "    print(\"price to pay-\",(Unit*2)+300)\n",
    "else:\n",
    "    print(\"your bill is 0\")"
   ]
  },
  {
   "cell_type": "code",
   "execution_count": null,
   "id": "78192fcc",
   "metadata": {},
   "outputs": [],
   "source": []
  }
 ],
 "metadata": {
  "kernelspec": {
   "display_name": "Python 3 (ipykernel)",
   "language": "python",
   "name": "python3"
  },
  "language_info": {
   "codemirror_mode": {
    "name": "ipython",
    "version": 3
   },
   "file_extension": ".py",
   "mimetype": "text/x-python",
   "name": "python",
   "nbconvert_exporter": "python",
   "pygments_lexer": "ipython3",
   "version": "3.9.12"
  }
 },
 "nbformat": 4,
 "nbformat_minor": 5
}
