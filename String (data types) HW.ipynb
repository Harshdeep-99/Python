{
 "cells": [
  {
   "cell_type": "markdown",
   "id": "b2ce0ff1",
   "metadata": {},
   "source": [
    "# String(data types) HW"
   ]
  },
  {
   "cell_type": "markdown",
   "id": "3ce1a17f",
   "metadata": {},
   "source": [
    "###### Q.1   Write a program to accept a string and display the string with changed case(Change upper and lower case)\n"
   ]
  },
  {
   "cell_type": "code",
   "execution_count": 2,
   "id": "b4140209",
   "metadata": {},
   "outputs": [
    {
     "name": "stdout",
     "output_type": "stream",
     "text": [
      "enter any input-Harshdeep\n",
      "HARSHDEEP\n",
      "harshdeep\n"
     ]
    }
   ],
   "source": [
    "x=input(\"enter any input-\")\n",
    "\n",
    "print(x.upper())\n",
    "print(x.lower())`"
   ]
  },
  {
   "cell_type": "markdown",
   "id": "48af6272",
   "metadata": {},
   "source": [
    "##### Q.2   Write a program to count the length of string without using len() function."
   ]
  },
  {
   "cell_type": "code",
   "execution_count": 4,
   "id": "8b445fc2",
   "metadata": {},
   "outputs": [
    {
     "name": "stdout",
     "output_type": "stream",
     "text": [
      "9\n"
     ]
    }
   ],
   "source": [
    "a=0\n",
    "for i in x:`\n",
    "    a=a+1\n",
    "print(a)"
   ]
  },
  {
   "cell_type": "markdown",
   "id": "6f9d5b4f",
   "metadata": {},
   "source": [
    "##### Q.3 Write a program to accept the string from user and display the ascii value for each letter."
   ]
  },
  {
   "cell_type": "code",
   "execution_count": 12,
   "id": "36697b35",
   "metadata": {},
   "outputs": [
    {
     "name": "stdout",
     "output_type": "stream",
     "text": [
      "enter the input-harshdeep\n",
      "h - 104\n",
      "a - 97\n",
      "r - 114\n",
      "s - 115\n",
      "h - 104\n",
      "d - 100\n",
      "e - 101\n",
      "e - 101\n",
      "p - 112\n"
     ]
    }
   ],
   "source": [
    "x=input(\"enter the input-\")\n",
    "for i in x:\n",
    "    print(i,\"-\",ord(i))"
   ]
  },
  {
   "cell_type": "markdown",
   "id": "a94113ed",
   "metadata": {},
   "source": [
    "##### Q.4 Write a program that accepts the string and replace all spaces by “#” symbol."
   ]
  },
  {
   "cell_type": "code",
   "execution_count": 22,
   "id": "55b29ec4",
   "metadata": {},
   "outputs": [
    {
     "name": "stdout",
     "output_type": "stream",
     "text": [
      "enter any input=dog is fat\n",
      "dog#is#fat\n"
     ]
    }
   ],
   "source": [
    "x=input(\"enter any input=\")\n",
    "print(x.replace(\" \",\"#\"))"
   ]
  },
  {
   "cell_type": "markdown",
   "id": "c2d5101e",
   "metadata": {},
   "source": [
    "##### Q.5 Write a program that delete the character at specific position."
   ]
  },
  {
   "cell_type": "code",
   "execution_count": 24,
   "id": "de403171",
   "metadata": {},
   "outputs": [
    {
     "name": "stdout",
     "output_type": "stream",
     "text": [
      "dg is fat\n"
     ]
    }
   ],
   "source": [
    "# y=input(\"which alphabhet in x you want to remove-\")\n",
    "print(x.replace((x[1]),\"\"))"
   ]
  },
  {
   "cell_type": "markdown",
   "id": "633286da",
   "metadata": {},
   "source": [
    "##### Q.6 Write a  program which accepts a strings and count the frequency of each vowel."
   ]
  },
  {
   "cell_type": "code",
   "execution_count": 3,
   "id": "35c07089",
   "metadata": {},
   "outputs": [
    {
     "name": "stdout",
     "output_type": "stream",
     "text": [
      "type any word or letter-harshdeep\n",
      "the frequency of the vowels in inputs are:\n",
      "a- 1\n",
      "e- 2\n",
      "i- 0\n",
      "o- 0\n",
      "u- 0\n"
     ]
    }
   ],
   "source": [
    "x=input(\"type any word or letter-\")\n",
    "print(\"the frequency of the vowels in inputs are:\")\n",
    "print(\"a-\",x.count('a'))\n",
    "print(\"e-\",x.count('e'))\n",
    "print(\"i-\",x.count('i'))\n",
    "print(\"o-\",x.count('o'))\n",
    "print(\"u-\",x.count('u'))"
   ]
  },
  {
   "cell_type": "markdown",
   "id": "52d3aca4",
   "metadata": {},
   "source": [
    "##### Q.7 Write a program which accepts the two strings from user and display the common words(ignore case).\n"
   ]
  },
  {
   "cell_type": "code",
   "execution_count": 10,
   "id": "541e1847",
   "metadata": {},
   "outputs": [
    {
     "name": "stdout",
     "output_type": "stream",
     "text": [
      "put the value of string-hello\n",
      "put the value of string-bye\n",
      "e\n"
     ]
    }
   ],
   "source": [
    "a=\"\"\n",
    "x=input(\"put the value of string-\")\n",
    "y=input(\"put the value of string-\")\n",
    "\n",
    "for i in x:\n",
    "    if i in y:\n",
    "        if i not in a:\n",
    "            a=a+i\n",
    "print(a)"
   ]
  },
  {
   "cell_type": "markdown",
   "id": "fc5fc2ff",
   "metadata": {},
   "source": [
    "##### Q.8 Write a Program to remove vowels from the string."
   ]
  },
  {
   "cell_type": "code",
   "execution_count": 5,
   "id": "2c64c751",
   "metadata": {},
   "outputs": [
    {
     "name": "stdout",
     "output_type": "stream",
     "text": [
      "type any word or letter-education\n",
      "dctn\n"
     ]
    }
   ],
   "source": [
    "x=input(\"type any word or letter-\")\n",
    "\n",
    "for i in x:\n",
    "    if \"a\" in x:\n",
    "        x=x.replace(\"a\",\"\")\n",
    "    elif \"e\" in x:\n",
    "        x=x.replace(\"e\",\"\")\n",
    "    elif \"i\" in x:\n",
    "        x=x.replace(\"i\",\"\")\n",
    "    elif \"o\" in x:\n",
    "        x=x.replace(\"o\",\"\")\n",
    "    elif \"u\" in x :\n",
    "        x=x.replace(\"u\",\"\")\n",
    "        \n",
    "print(x)\n",
    "   "
   ]
  },
  {
   "cell_type": "markdown",
   "id": "b7839f4e",
   "metadata": {},
   "source": [
    "##### Q.9 Write a program to remove the repeatitive Alphabet in a String."
   ]
  },
  {
   "cell_type": "code",
   "execution_count": 11,
   "id": "2d12a8e0",
   "metadata": {},
   "outputs": [
    {
     "name": "stdout",
     "output_type": "stream",
     "text": [
      "enter any string-harshdeep\n",
      "harsdep\n"
     ]
    }
   ],
   "source": [
    "a=\"\"\n",
    "x=input(\"enter any string-\")\n",
    "for i in x:\n",
    "    if i not in a:\n",
    "        a=a+i\n",
    "print(a)"
   ]
  },
  {
   "cell_type": "markdown",
   "id": "dd61c4ad",
   "metadata": {},
   "source": [
    "##### Q.10 Write a program that takes full name as input and displays the abbrevations of the first and middle names except the last name which is played as it is. Eg:\n",
    "Robert Brett Roser output :R.B.Roser.\n"
   ]
  },
  {
   "cell_type": "code",
   "execution_count": 46,
   "id": "dc9ad60b",
   "metadata": {},
   "outputs": [
    {
     "name": "stdout",
     "output_type": "stream",
     "text": [
      "enter any first name-harsh\n",
      "enter any middle name-deep\n",
      "enter any last name-sethi\n",
      "H.D.Sethi\n"
     ]
    }
   ],
   "source": [
    "x=input(\"enter any first name-\")\n",
    "y=input(\"enter any middle name-\")\n",
    "z=input(\"enter any last name-\")\n",
    "\n",
    "x=x.upper()\n",
    "y=y.upper()\n",
    "z=z.capitalize()\n",
    "print((x[0])+\".\"+(y[0])+\".\"+z)\n",
    "\n"
   ]
  },
  {
   "cell_type": "markdown",
   "id": "dfaa0274",
   "metadata": {},
   "source": [
    "##### Q.11 Write a Python program to get a string made of the first 2 and the last 2 chars from a given a string. If the string length is less than 2, return instead of the empty string.\n",
    "\n",
    "Sample String : 'Deepanshu'\n",
    "Expected Result : 'Dehu'\n",
    "\n",
    "Sample String : 'dv'\n",
    "Expected Result : 'dvdv'\n",
    "\n",
    "Sample String : 'd'\n",
    "Expected Result : Empty String\n"
   ]
  },
  {
   "cell_type": "code",
   "execution_count": 57,
   "id": "719f253e",
   "metadata": {},
   "outputs": [
    {
     "name": "stdout",
     "output_type": "stream",
     "text": [
      "enter any word-deepanshu\n",
      "dehu\n"
     ]
    }
   ],
   "source": [
    "x=input(\"enter any word-\")\n",
    "if len(x)>=2:\n",
    "    print(x[0]+x[1]+x[-2]+x[-1])\n",
    "else:\n",
    "    print(\"empty string\")"
   ]
  },
  {
   "cell_type": "markdown",
   "id": "5b71d645",
   "metadata": {},
   "source": [
    "##### Q.12 Write a Python program to get a single string from two given strings, separated by a space and swap the first two characters of each string. \n",
    "\n",
    "Sample String : 'abc', 'xyz'\n",
    "Expected Result : 'xyc abz' ''\n"
   ]
  },
  {
   "cell_type": "code",
   "execution_count": 23,
   "id": "f1320136",
   "metadata": {},
   "outputs": [
    {
     "name": "stdout",
     "output_type": "stream",
     "text": [
      "enter any first-harsh\n",
      "enter any last-sethi\n",
      "sersh hathi\n"
     ]
    }
   ],
   "source": [
    "x=input(\"enter any first-\")\n",
    "y=input(\"enter any last-\")\n",
    "\n",
    "print((x.replace(x[0:2],y[0:2]))+\" \"+(y.replace(y[0:2],x[0:2])))\n"
   ]
  },
  {
   "cell_type": "markdown",
   "id": "f0448d69",
   "metadata": {},
   "source": [
    "##### Q.13 Write a Python program to add 'ing' at the end of a given string (length should be at least 3). \n",
    "If the given string already ends with 'ing' then add 'ly' instead. \n",
    "If the string length of the given string is less than 3, leave it unchanged. \n",
    "\n",
    "Sample String : 'abc'\n",
    "Expected Result : 'abcing'\n",
    "\n",
    "Sample String : 'string'\n",
    "Expected Result : 'stringly\n"
   ]
  },
  {
   "cell_type": "code",
   "execution_count": 10,
   "id": "4b5c2ea1",
   "metadata": {
    "scrolled": true
   },
   "outputs": [
    {
     "name": "stdout",
     "output_type": "stream",
     "text": [
      "type any word-accord\n",
      "according\n"
     ]
    }
   ],
   "source": [
    "x=input(\"type any word-\")\n",
    "\n",
    "\n",
    "if len(x)>=3 and x[-3]!=\"i\" and x[-2]!=\"n\" and x[-1]!=\"g\":\n",
    "    print(x+\"ing\")\n",
    "\n",
    "elif len(x)>=3 and x[-3]==\"i\" and x[-2]==\"n\" and x[-1]==\"g\":\n",
    "    print(x+\"ly\")\n",
    "\n",
    "else:\n",
    "    print(x)"
   ]
  },
  {
   "cell_type": "markdown",
   "id": "60c75898",
   "metadata": {},
   "source": [
    "##### Q.14 Write a Python program to remove the characters which have odd index values of a given string."
   ]
  },
  {
   "cell_type": "code",
   "execution_count": 15,
   "id": "3981e799",
   "metadata": {},
   "outputs": [
    {
     "name": "stdout",
     "output_type": "stream",
     "text": [
      "add any inputdeepanshu\n",
      "deasu\n"
     ]
    }
   ],
   "source": [
    "# x=input(\"type any word-\")\n",
    "# y=\"\"\n",
    "# for i in x:\n",
    "#     y=y+i\n",
    "#     if x.index(i)%2!=0:\n",
    "#         print(i)\n",
    "\n",
    "s=input(\"add any input\")\n",
    "z=\"\"\n",
    "c=0\n",
    "for i in s:\n",
    "    \n",
    "    if c%2==0:\n",
    "        c=c+1\n",
    "        z=z+i\n",
    "    else:\n",
    "        c=c+1\n",
    "print(z)"
   ]
  },
  {
   "cell_type": "markdown",
   "id": "4ebd4963",
   "metadata": {},
   "source": [
    "##### Q.15 Write a Python function to convert a given string to all uppercase if it contains at least 2 uppercase characters in the first 4 characters.\n"
   ]
  },
  {
   "cell_type": "code",
   "execution_count": 57,
   "id": "8e20338a",
   "metadata": {},
   "outputs": [
    {
     "name": "stdout",
     "output_type": "stream",
     "text": [
      "type any word-MMarketing\n",
      "MMARKETING\n"
     ]
    }
   ],
   "source": [
    "x=input(\"type any word-\")\n",
    "\n",
    "if x[0:2].isupper():\n",
    "    print(x.upper())"
   ]
  },
  {
   "cell_type": "markdown",
   "id": "001501a9",
   "metadata": {},
   "source": [
    "##### Q.16 Write a Python program to print the index of the character in a string.\n",
    "Sample string: deepanshu\n",
    "Expected output:\n",
    "\n",
    "Current character d position at 0\n",
    "\n",
    "Current character e position at 1\n",
    "\n",
    "Current character e position at 2\n",
    "\n",
    "- - - - - - - - - - - - - - - - - - - - - - - - -\n",
    "\n",
    "Current character h position at 8\n",
    "\n",
    "Current character u position at 9"
   ]
  },
  {
   "cell_type": "code",
   "execution_count": 8,
   "id": "38a01426",
   "metadata": {},
   "outputs": [
    {
     "name": "stdout",
     "output_type": "stream",
     "text": [
      "type any word-deepanshu\n",
      "d is at 0 position\n",
      "e is at 1 position\n",
      "e is at 2 position\n",
      "p is at 3 position\n",
      "a is at 4 position\n",
      "n is at 5 position\n",
      "s is at 6 position\n",
      "h is at 7 position\n",
      "u is at 8 position\n"
     ]
    }
   ],
   "source": [
    "x=input(\"type any word-\")\n",
    "c=0\n",
    "for i in x:\n",
    "    print(i,\"is at\",c,\"position\")\n",
    "    c=c+1"
   ]
  },
  {
   "cell_type": "code",
   "execution_count": null,
   "id": "19a99923",
   "metadata": {},
   "outputs": [],
   "source": []
  }
 ],
 "metadata": {
  "kernelspec": {
   "display_name": "Python 3 (ipykernel)",
   "language": "python",
   "name": "python3"
  },
  "language_info": {
   "codemirror_mode": {
    "name": "ipython",
    "version": 3
   },
   "file_extension": ".py",
   "mimetype": "text/x-python",
   "name": "python",
   "nbconvert_exporter": "python",
   "pygments_lexer": "ipython3",
   "version": "3.9.12"
  }
 },
 "nbformat": 4,
 "nbformat_minor": 5
}
