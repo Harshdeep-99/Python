{
 "cells": [
  {
   "cell_type": "markdown",
   "id": "e227cd9f",
   "metadata": {},
   "source": [
    "# Loops"
   ]
  },
  {
   "cell_type": "markdown",
   "id": "abd1c961",
   "metadata": {},
   "source": [
    "##### Q1. Write a program to print the following using while loop   \n",
    "a. First 10 Even numbers   \n",
    "b. First 10 Odd numbers   \n",
    "c. First 10 Natural numbers   \n",
    "d. First 10 Whole numbers   \n"
   ]
  },
  {
   "cell_type": "code",
   "execution_count": 2,
   "id": "b9cc58b0",
   "metadata": {},
   "outputs": [
    {
     "name": "stdout",
     "output_type": "stream",
     "text": [
      "even numbers- 2\n",
      "even numbers- 4\n",
      "even numbers- 6\n",
      "even numbers- 8\n",
      "even numbers- 10\n",
      "odd numbers- 1\n",
      "odd numbers- 3\n",
      "odd numbers- 5\n",
      "odd numbers- 7\n",
      "odd numbers- 9\n",
      "natural numbers- 1\n",
      "natural numbers- 2\n",
      "natural numbers- 3\n",
      "natural numbers- 4\n",
      "natural numbers- 5\n",
      "natural numbers- 6\n",
      "natural numbers- 7\n",
      "natural numbers- 8\n",
      "natural numbers- 9\n",
      "natural numbers- 10\n",
      "whole numbers- 0\n",
      "whole numbers- 1\n",
      "whole numbers- 2\n",
      "whole numbers- 3\n",
      "whole numbers- 4\n",
      "whole numbers- 5\n",
      "whole numbers- 6\n",
      "whole numbers- 7\n",
      "whole numbers- 8\n",
      "whole numbers- 9\n",
      "whole numbers- 10\n"
     ]
    }
   ],
   "source": [
    "for x in range(1,10+1):\n",
    "    if x%2==0:\n",
    "        print(\"even numbers-\",x)\n",
    "for x in range(1,10+1):\n",
    "    if x%2!=0:\n",
    "        print(\"odd numbers-\",x)\n",
    "for x in range(1,10+1):\n",
    "    if x>0:\n",
    "        print(\"natural numbers-\",x)\n",
    "for x in range(0,10+1):\n",
    "    if x>=0:\n",
    "        print(\"whole numbers-\",x)"
   ]
  },
  {
   "cell_type": "markdown",
   "id": "a641de24",
   "metadata": {},
   "source": [
    "##### Q2. Write a program to print first 10 integers and their squares using while loop.   \n"
   ]
  },
  {
   "cell_type": "code",
   "execution_count": 4,
   "id": "6e1d58fb",
   "metadata": {},
   "outputs": [
    {
     "name": "stdout",
     "output_type": "stream",
     "text": [
      "1 1\n",
      "2 4\n",
      "3 9\n",
      "4 16\n",
      "5 25\n",
      "6 36\n",
      "7 49\n",
      "8 64\n",
      "9 81\n",
      "10 100\n"
     ]
    }
   ],
   "source": [
    "#by for loop\n",
    "\n",
    "for x in range(1,10+1):\n",
    "    print(x,x**2)"
   ]
  },
  {
   "cell_type": "code",
   "execution_count": 17,
   "id": "b7067fbd",
   "metadata": {},
   "outputs": [
    {
     "name": "stdout",
     "output_type": "stream",
     "text": [
      "1 1\n",
      "2 4\n",
      "3 9\n",
      "4 16\n",
      "5 25\n",
      "6 36\n",
      "7 49\n",
      "8 64\n",
      "9 81\n",
      "10 100\n"
     ]
    }
   ],
   "source": [
    "#by while loop\n",
    "x=0\n",
    "while x!=10:\n",
    "    x=x+1\n",
    "    print(x,x**2)"
   ]
  },
  {
   "cell_type": "markdown",
   "id": "a8b24eb3",
   "metadata": {},
   "source": [
    "##### Q3. Write for loop statement to print the following series:   \n",
    "10\n",
    "20\n",
    "30 \n",
    ".\n",
    ".\n",
    ".\n",
    " 300   \n"
   ]
  },
  {
   "cell_type": "code",
   "execution_count": 18,
   "id": "599487d7",
   "metadata": {},
   "outputs": [
    {
     "name": "stdout",
     "output_type": "stream",
     "text": [
      "10\n",
      "20\n",
      "30\n",
      "40\n",
      "50\n",
      "60\n",
      "70\n",
      "80\n",
      "90\n",
      "100\n",
      "110\n",
      "120\n",
      "130\n",
      "140\n",
      "150\n",
      "160\n",
      "170\n",
      "180\n",
      "190\n",
      "200\n",
      "210\n",
      "220\n",
      "230\n",
      "240\n",
      "250\n",
      "260\n",
      "270\n",
      "280\n",
      "290\n",
      "300\n"
     ]
    }
   ],
   "source": [
    "#by for loops\n",
    "for x in range(1,300+1):\n",
    "    if x%10==0:\n",
    "        print(x)"
   ]
  },
  {
   "cell_type": "code",
   "execution_count": 19,
   "id": "c3f67ecc",
   "metadata": {},
   "outputs": [
    {
     "name": "stdout",
     "output_type": "stream",
     "text": [
      "10\n",
      "20\n",
      "30\n",
      "40\n",
      "50\n",
      "60\n",
      "70\n",
      "80\n",
      "90\n",
      "100\n",
      "110\n",
      "120\n",
      "130\n",
      "140\n",
      "150\n",
      "160\n",
      "170\n",
      "180\n",
      "190\n",
      "200\n",
      "210\n",
      "220\n",
      "230\n",
      "240\n",
      "250\n",
      "260\n",
      "270\n",
      "280\n",
      "290\n",
      "300\n"
     ]
    }
   ],
   "source": [
    "#by while loops\n",
    "x=0\n",
    "while x!=300:\n",
    "    x=x+10\n",
    "    print(x)"
   ]
  },
  {
   "cell_type": "markdown",
   "id": "c9b86547",
   "metadata": {},
   "source": [
    "##### Q4. Write a while loop statement to print the following series   \n",
    "105\n",
    "98\n",
    "91 \n",
    ".\n",
    ".\n",
    ".\n",
    ".\n",
    "7\n"
   ]
  },
  {
   "cell_type": "code",
   "execution_count": 20,
   "id": "a86492c0",
   "metadata": {},
   "outputs": [
    {
     "name": "stdout",
     "output_type": "stream",
     "text": [
      "105\n",
      "98\n",
      "91\n",
      "84\n",
      "77\n",
      "70\n",
      "63\n",
      "56\n",
      "49\n",
      "42\n",
      "35\n",
      "28\n",
      "21\n",
      "14\n",
      "7\n"
     ]
    }
   ],
   "source": [
    "#by for loops\n",
    "for x in range(105,1,-7):\n",
    "    print(x)"
   ]
  },
  {
   "cell_type": "code",
   "execution_count": 21,
   "id": "479d5225",
   "metadata": {},
   "outputs": [
    {
     "name": "stdout",
     "output_type": "stream",
     "text": [
      "105\n",
      "98\n",
      "91\n",
      "84\n",
      "77\n",
      "70\n",
      "63\n",
      "56\n",
      "49\n",
      "42\n",
      "35\n",
      "28\n",
      "21\n",
      "14\n",
      "7\n"
     ]
    }
   ],
   "source": [
    "#by while loops\n",
    "x=112\n",
    "while x!=7:\n",
    "    x=x-7\n",
    "    print(x)"
   ]
  },
  {
   "cell_type": "markdown",
   "id": "747e3f8a",
   "metadata": {},
   "source": [
    "##### Q5. Write a program to display all the numbers which are divisible by 13 but not by 3 between 100 and 500.(exclusive both numbers)"
   ]
  },
  {
   "cell_type": "code",
   "execution_count": 29,
   "id": "58bacf2f",
   "metadata": {},
   "outputs": [
    {
     "name": "stdout",
     "output_type": "stream",
     "text": [
      "104\n",
      "130\n",
      "143\n",
      "169\n",
      "182\n",
      "208\n",
      "221\n",
      "247\n",
      "260\n",
      "286\n",
      "299\n",
      "325\n",
      "338\n",
      "364\n",
      "377\n",
      "403\n",
      "416\n",
      "442\n",
      "455\n",
      "481\n",
      "494\n"
     ]
    }
   ],
   "source": [
    "# by for loops\n",
    "for x in range(100+1,500):\n",
    "    if x%13==0 and x%3!=0:\n",
    "        print(x)`"
   ]
  },
  {
   "cell_type": "code",
   "execution_count": 31,
   "id": "e281d12a",
   "metadata": {},
   "outputs": [
    {
     "name": "stdout",
     "output_type": "stream",
     "text": [
      "104\n",
      "130\n",
      "143\n",
      "169\n",
      "182\n",
      "208\n",
      "221\n",
      "247\n",
      "260\n",
      "286\n",
      "299\n",
      "325\n",
      "338\n",
      "364\n",
      "377\n",
      "403\n",
      "416\n",
      "442\n",
      "455\n",
      "481\n",
      "494\n"
     ]
    }
   ],
   "source": [
    "#by while loops\n",
    "x=101\n",
    "while x!=499:\n",
    "    x=x+1\n",
    "    if x%13==0 and x%3!=0:\n",
    "        print(x)"
   ]
  },
  {
   "cell_type": "markdown",
   "id": "fb1bcb68",
   "metadata": {},
   "source": [
    "\n",
    "##### Q6. Write a program to accept 10 numbers from the user and display the largest & smallest number number."
   ]
  },
  {
   "cell_type": "code",
   "execution_count": 14,
   "id": "e95d49f3",
   "metadata": {},
   "outputs": [
    {
     "name": "stdout",
     "output_type": "stream",
     "text": [
      "Enter number-5\n",
      "Enter number-4\n",
      "Enter number-6\n",
      "Enter number-4\n",
      "Enter number-7\n",
      "Enter number-97\n",
      "Enter number-1056\n",
      "Enter number-57\n",
      "Enter number-45\n",
      "Enter number-5\n",
      "smallest number is 4\n",
      "largest number is 1056\n"
     ]
    }
   ],
   "source": [
    "m=0\n",
    "k=0\n",
    "p=0\n",
    "for i in range(0,10):\n",
    "    n=int(input(\"Enter number-\"))\n",
    "    \n",
    "    if (p==0):\n",
    "        k=n\n",
    "        p=p+1\n",
    "        \n",
    "    if (m<n):\n",
    "            m=n\n",
    "    if(k>n):\n",
    "        k=n\n",
    "        \n",
    "print(\"smallest number is\",k)\n",
    "\n",
    "print(\"largest number is\",m)"
   ]
  },
  {
   "cell_type": "markdown",
   "id": "9a9e7864",
   "metadata": {},
   "source": [
    "##### Q7. Write a program to print the following series till n terms.   \n",
    "1\n",
    " 4\n",
    " 9\n",
    " 16\n",
    " 25\n",
    " .\n",
    ".\n",
    ".\n",
    "\n",
    " n terms.   \n"
   ]
  },
  {
   "cell_type": "code",
   "execution_count": 16,
   "id": "306f96d5",
   "metadata": {},
   "outputs": [
    {
     "name": "stdout",
     "output_type": "stream",
     "text": [
      "take any number-10\n",
      "0\n",
      "1\n",
      "4\n",
      "9\n",
      "16\n",
      "25\n",
      "36\n",
      "49\n",
      "64\n",
      "81\n"
     ]
    }
   ],
   "source": [
    "#by for loops\n",
    "x=int(input(\"take any number-\"))\n",
    "for i in range(x):\n",
    "    print(i**2)"
   ]
  },
  {
   "cell_type": "code",
   "execution_count": 33,
   "id": "4744b673",
   "metadata": {},
   "outputs": [
    {
     "name": "stdout",
     "output_type": "stream",
     "text": [
      "put the value for length of output-10\n",
      "1\n",
      "4\n",
      "9\n",
      "16\n",
      "25\n",
      "36\n",
      "49\n",
      "64\n",
      "81\n",
      "100\n"
     ]
    }
   ],
   "source": [
    "#by while loops\n",
    "x=0\n",
    "y=int(input(\"put the value for length of output-\"))\n",
    "while x!=y:\n",
    "    x=x+1\n",
    "    print(x**2)"
   ]
  },
  {
   "cell_type": "markdown",
   "id": "b65aadab",
   "metadata": {},
   "source": [
    "##### Q8. Write a python program to get the following output   \n",
    "1—–49   \n",
    "   \n",
    "2—–48   \n",
    "   \n",
    "3—–47   \n",
    "   \n",
    ". .   \n",
    "   \n",
    ". .   \n",
    "   \n",
    ". .   \n",
    "   \n",
    "48—–2   \n",
    "   \n",
    "49—–1\n"
   ]
  },
  {
   "cell_type": "code",
   "execution_count": 22,
   "id": "e9e08bd9",
   "metadata": {},
   "outputs": [
    {
     "name": "stdout",
     "output_type": "stream",
     "text": [
      "1 ----- 49\n",
      "2 ----- 48\n",
      "3 ----- 47\n",
      "4 ----- 46\n",
      "5 ----- 45\n",
      "6 ----- 44\n",
      "7 ----- 43\n",
      "8 ----- 42\n",
      "9 ----- 41\n",
      "10 ----- 40\n",
      "11 ----- 39\n",
      "12 ----- 38\n",
      "13 ----- 37\n",
      "14 ----- 36\n",
      "15 ----- 35\n",
      "16 ----- 34\n",
      "17 ----- 33\n",
      "18 ----- 32\n",
      "19 ----- 31\n",
      "20 ----- 30\n",
      "21 ----- 29\n",
      "22 ----- 28\n",
      "23 ----- 27\n",
      "24 ----- 26\n",
      "25 ----- 25\n",
      "26 ----- 24\n",
      "27 ----- 23\n",
      "28 ----- 22\n",
      "29 ----- 21\n",
      "30 ----- 20\n",
      "31 ----- 19\n",
      "32 ----- 18\n",
      "33 ----- 17\n",
      "34 ----- 16\n",
      "35 ----- 15\n",
      "36 ----- 14\n",
      "37 ----- 13\n",
      "38 ----- 12\n",
      "39 ----- 11\n",
      "40 ----- 10\n",
      "41 ----- 9\n",
      "42 ----- 8\n",
      "43 ----- 7\n",
      "44 ----- 6\n",
      "45 ----- 5\n",
      "46 ----- 4\n",
      "47 ----- 3\n",
      "48 ----- 2\n",
      "49 ----- 1\n"
     ]
    }
   ],
   "source": [
    "#by for loops\n",
    "y=49\n",
    "for x in range(1,50):\n",
    "        print(x,\"-----\",y)\n",
    "        y=y-1\n",
    "#for y in range(49,1,-1):\n",
    "    "
   ]
  },
  {
   "cell_type": "code",
   "execution_count": 28,
   "id": "0272e0ea",
   "metadata": {},
   "outputs": [
    {
     "name": "stdout",
     "output_type": "stream",
     "text": [
      "1 ------ 49\n",
      "2 ------ 48\n",
      "3 ------ 47\n",
      "4 ------ 46\n",
      "5 ------ 45\n",
      "6 ------ 44\n",
      "7 ------ 43\n",
      "8 ------ 42\n",
      "9 ------ 41\n",
      "10 ------ 40\n",
      "11 ------ 39\n",
      "12 ------ 38\n",
      "13 ------ 37\n",
      "14 ------ 36\n",
      "15 ------ 35\n",
      "16 ------ 34\n",
      "17 ------ 33\n",
      "18 ------ 32\n",
      "19 ------ 31\n",
      "20 ------ 30\n",
      "21 ------ 29\n",
      "22 ------ 28\n",
      "23 ------ 27\n",
      "24 ------ 26\n",
      "25 ------ 25\n",
      "26 ------ 24\n",
      "27 ------ 23\n",
      "28 ------ 22\n",
      "29 ------ 21\n",
      "30 ------ 20\n",
      "31 ------ 19\n",
      "32 ------ 18\n",
      "33 ------ 17\n",
      "34 ------ 16\n",
      "35 ------ 15\n",
      "36 ------ 14\n",
      "37 ------ 13\n",
      "38 ------ 12\n",
      "39 ------ 11\n",
      "40 ------ 10\n",
      "41 ------ 9\n",
      "42 ------ 8\n",
      "43 ------ 7\n",
      "44 ------ 6\n",
      "45 ------ 5\n",
      "46 ------ 4\n",
      "47 ------ 3\n",
      "48 ------ 2\n",
      "49 ------ 1\n"
     ]
    }
   ],
   "source": [
    "#by while loops\n",
    "x=0\n",
    "y=50\n",
    "while x!=49  and y!=0:\n",
    "    x=x+1\n",
    "    y=y-1\n",
    "    print(x,\"------\",y)"
   ]
  },
  {
   "cell_type": "markdown",
   "id": "46144833",
   "metadata": {},
   "source": [
    "##### Q10. Write a program to display the number names of the digits of a number entered by user.\n",
    "for example if the number is 231 then output should be \n",
    "\n",
    "Two\n",
    "Three\n",
    "One\n"
   ]
  },
  {
   "cell_type": "code",
   "execution_count": 25,
   "id": "479ed612",
   "metadata": {},
   "outputs": [
    {
     "name": "stdout",
     "output_type": "stream",
     "text": [
      "any number-55\n",
      "five five "
     ]
    }
   ],
   "source": [
    "#by for loops\n",
    "x=input(\"any number-\")\n",
    "for y in x:\n",
    "    if y=='1':\n",
    "        print(\"one\",end=' ')\n",
    "    elif y=='2':\n",
    "        print(\"two\",end=' ')\n",
    "    elif y=='3':\n",
    "        print(\"three\",end=' ')\n",
    "    elif y=='4':\n",
    "        print(\"four\",end=' ')\n",
    "    elif y=='5':\n",
    "        print(\"five\",end=' ')\n",
    "    elif y=='6':\n",
    "        print(\"six\",end=' ')\n",
    "    elif y=='7':\n",
    "        print(\"seven\",end=' ')\n",
    "    elif y=='8':\n",
    "        print(\"eight\",end=' ')\n",
    "    elif y=='9':\n",
    "        print(\"nine\",end=' ')\n",
    "\n"
   ]
  },
  {
   "cell_type": "code",
   "execution_count": 27,
   "id": "a55f6ba4",
   "metadata": {},
   "outputs": [
    {
     "name": "stdout",
     "output_type": "stream",
     "text": [
      "enter n-56654\n",
      "45665\n",
      "five\n",
      "six\n",
      "six\n",
      "five\n",
      "four\n"
     ]
    }
   ],
   "source": [
    "#by while loops\n",
    "n=int(input(\"enter n-\"))\n",
    "rev=0\n",
    "while n!=0:\n",
    "    d=n%10\n",
    "    rev=rev*10+d\n",
    "    n=n//10\n",
    "print(rev)\n",
    "\n",
    "while rev!=0:\n",
    "    y=rev%10\n",
    "    rev=rev//10\n",
    "    if y==1:\n",
    "        print(\"one\")\n",
    "    elif y==2:\n",
    "        print(\"two\")\n",
    "    elif y==3:\n",
    "        print(\"three\")\n",
    "    elif y==4:\n",
    "        print(\"four\")\n",
    "    elif y==5:\n",
    "        print(\"five\")\n",
    "    elif y==6:\n",
    "        print(\"six\")\n",
    "    elif y==7:\n",
    "        print(\"seven\")\n",
    "    elif y==8:\n",
    "        print(\"eight\")\n",
    "    elif y==9:\n",
    "        print(\"nine\")\n",
    "        "
   ]
  },
  {
   "cell_type": "markdown",
   "id": "4c058c12",
   "metadata": {},
   "source": [
    "   \n",
    "##### Q11. Write a program to enter the numbers till the user wants and at the end it should display the sum of all the numbers entered.   \n"
   ]
  },
  {
   "cell_type": "code",
   "execution_count": 75,
   "id": "6405330b",
   "metadata": {},
   "outputs": [
    {
     "name": "stdout",
     "output_type": "stream",
     "text": [
      "enter as many input you want-2\n",
      "to stop input enter 0\n",
      "enter as many input you want-0\n",
      "to stop input enter 0\n",
      "sum of inputs is 2\n"
     ]
    }
   ],
   "source": [
    "x=0\n",
    "y=1\n",
    "while  y!=0:\n",
    "    y=int(input(\"enter as many input you want-\"))\n",
    "    print(\"to stop input enter 0\")\n",
    "    x=y+x\n",
    "print(\"sum of inputs is\",x)"
   ]
  },
  {
   "cell_type": "markdown",
   "id": "e14cc04c",
   "metadata": {},
   "source": [
    "   \n",
    "##### Q12. Write a program to enter the numbers till the user enter ZERO and at the end it should display the count and sum of positive  , negative numbers  entered.   \n"
   ]
  },
  {
   "cell_type": "code",
   "execution_count": 35,
   "id": "1f179243",
   "metadata": {},
   "outputs": [
    {
     "name": "stdout",
     "output_type": "stream",
     "text": [
      "enter as many input you want=5\n",
      "to stop input enter 0\n",
      "enter as many input you want=6\n",
      "to stop input enter 0\n",
      "enter as many input you want=2\n",
      "to stop input enter 0\n",
      "enter as many input you want=0\n",
      "to stop input enter 0\n",
      "sum of postive inputs is 13 and count of positive inputs are- 3\n",
      "sum of negative inputs is 0 and count of negative inputs are- 0\n"
     ]
    }
   ],
   "source": [
    "#by while loops\n",
    "a=0\n",
    "y=int(input(\"enter as many input you want=\"))\n",
    "print(\"to stop input enter 0\")\n",
    "z=0\n",
    "b=0\n",
    "k=0\n",
    "while  y!=0:\n",
    "    \n",
    "    if y>0:\n",
    "        a=y+a\n",
    "        z=z+1\n",
    "    elif y<0:\n",
    "        b=b+y\n",
    "        k=k+1\n",
    "      \n",
    "    y=int(input(\"enter as many input you want=\"))\n",
    "    print(\"to stop input enter 0\")\n",
    "    \n",
    "print(\"sum of postive inputs is\",a,\"and count of positive inputs are-\",z)\n",
    "print(\"sum of negative inputs is\",b,\"and count of negative inputs are-\",k)"
   ]
  },
  {
   "cell_type": "markdown",
   "id": "9c00ba38",
   "metadata": {},
   "source": [
    "##### Q13. Write a program to show whether input is palindrome or not"
   ]
  },
  {
   "cell_type": "code",
   "execution_count": 37,
   "id": "09a35531",
   "metadata": {},
   "outputs": [
    {
     "name": "stdout",
     "output_type": "stream",
     "text": [
      "enter n-151\n",
      "number is palindrome\n"
     ]
    }
   ],
   "source": [
    "n=int(input(\"enter n-\"))\n",
    "\n",
    "x=n\n",
    "rev=0\n",
    "while n!=0:\n",
    "    d=n%10\n",
    "    rev=rev*10+d\n",
    "    n=n//10\n",
    "if x==rev:\n",
    "    print(\"number is palindrome\")\n",
    "else:\n",
    "    print(rev,\"not a palindrome\")\n"
   ]
  }
 ],
 "metadata": {
  "kernelspec": {
   "display_name": "Python 3 (ipykernel)",
   "language": "python",
   "name": "python3"
  },
  "language_info": {
   "codemirror_mode": {
    "name": "ipython",
    "version": 3
   },
   "file_extension": ".py",
   "mimetype": "text/x-python",
   "name": "python",
   "nbconvert_exporter": "python",
   "pygments_lexer": "ipython3",
   "version": "3.9.12"
  }
 },
 "nbformat": 4,
 "nbformat_minor": 5
}
